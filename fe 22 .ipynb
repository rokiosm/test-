{
 "cells": [
  {
   "cell_type": "code",
   "execution_count": 1,
   "metadata": {},
   "outputs": [
    {
     "name": "stdout",
     "output_type": "stream",
     "text": [
      "안녕하세요\n"
     ]
    }
   ],
   "source": [
    "print(\"안녕하세요\")"
   ]
  },
  {
   "cell_type": "code",
   "execution_count": 15,
   "metadata": {},
   "outputs": [
    {
     "name": "stdout",
     "output_type": "stream",
     "text": [
      "숫자를 입력4\n",
      "A를 출력\n"
     ]
    }
   ],
   "source": [
    "number = input(\"숫자를 입력\")\n",
    "number = int(number)\n",
    "\n",
    "if  1<=number<=5:\n",
    "    print(\"A를 출력\")\n",
    "elif 6<=number<=10:\n",
    "    print(\"B를 출력\")\n",
    "else:\n",
    "    (\"아무것도 해당되지 않음\")"
   ]
  },
  {
   "cell_type": "code",
   "execution_count": 2,
   "metadata": {},
   "outputs": [
    {
     "name": "stdout",
     "output_type": "stream",
     "text": [
      "9X 1 = 9\n",
      "9X 2 = 18\n",
      "9X 3 = 27\n",
      "9X 4 = 36\n",
      "9X 5 = 45\n",
      "9X 6 = 54\n",
      "9X 7 = 63\n",
      "9X 8 = 72\n",
      "9X 9 = 81\n"
     ]
    }
   ],
   "source": [
    "array = [1,2,3,4,5,6,7,8,9]\n",
    "\n",
    "for element in array:\n",
    "    \n",
    "    print(\"9X\",element, \"=\", element * 9)"
   ]
  },
  {
   "cell_type": "code",
   "execution_count": 4,
   "metadata": {},
   "outputs": [
    {
     "name": "stdout",
     "output_type": "stream",
     "text": [
      "포도 1박스 : 15000\n",
      "라면 1봉지 : 4000\n",
      "소고기 1kg: 3000\n"
     ]
    }
   ],
   "source": [
    "podo = 15000\n",
    "ramen = 4000\n",
    "beef = 3000\n",
    "\n",
    "def sum_add(a,b,c):\n",
    "    print(\"포도 1박스\", \":\", a)\n",
    "    print(\"라면 1봉지\", \":\", b)\n",
    "    print(\"소고기 1kg:\", c)\n",
    "\n",
    "#     result = (a*2) + (b*4) + c\n",
    "#     return result\n",
    "\n",
    "sum_add(podo,ramen,beef)"
   ]
  },
  {
   "cell_type": "code",
   "execution_count": null,
   "metadata": {},
   "outputs": [],
   "source": []
  },
  {
   "cell_type": "code",
   "execution_count": null,
   "metadata": {},
   "outputs": [],
   "source": []
  },
  {
   "cell_type": "code",
   "execution_count": null,
   "metadata": {},
   "outputs": [],
   "source": []
  }
 ],
 "metadata": {
  "kernelspec": {
   "display_name": "Python 3",
   "language": "python",
   "name": "python3"
  },
  "language_info": {
   "codemirror_mode": {
    "name": "ipython",
    "version": 3
   },
   "file_extension": ".py",
   "mimetype": "text/x-python",
   "name": "python",
   "nbconvert_exporter": "python",
   "pygments_lexer": "ipython3",
   "version": "3.7.6"
  }
 },
 "nbformat": 4,
 "nbformat_minor": 4
}
