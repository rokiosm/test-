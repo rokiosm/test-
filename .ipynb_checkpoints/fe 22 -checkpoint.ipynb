{
 "cells": [
  {
   "cell_type": "code",
   "execution_count": 1,
   "metadata": {},
   "outputs": [
    {
     "name": "stdout",
     "output_type": "stream",
     "text": [
      "안녕하세요\n"
     ]
    }
   ],
   "source": [
    "print(\"안녕하세요\")"
   ]
  },
  {
   "cell_type": "code",
   "execution_count": 15,
   "metadata": {},
   "outputs": [
    {
     "name": "stdout",
     "output_type": "stream",
     "text": [
      "숫자를 입력4\n",
      "A를 출력\n"
     ]
    }
   ],
   "source": [
    "number = input(\"숫자를 입력\")\n",
    "number = int(number)\n",
    "\n",
    "if  1<=number<=5:\n",
    "    print(\"A를 출력\")\n",
    "elif 6<=number<=10:\n",
    "    print(\"B를 출력\")\n",
    "else:\n",
    "    (\"아무것도 해당되지 않음\")"
   ]
  },
  {
   "cell_type": "code",
   "execution_count": 2,
   "metadata": {},
   "outputs": [
    {
     "name": "stdout",
     "output_type": "stream",
     "text": [
      "9X 1 = 9\n",
      "9X 2 = 18\n",
      "9X 3 = 27\n",
      "9X 4 = 36\n",
      "9X 5 = 45\n",
      "9X 6 = 54\n",
      "9X 7 = 63\n",
      "9X 8 = 72\n",
      "9X 9 = 81\n"
     ]
    }
   ],
   "source": [
    "array = [1,2,3,4,5,6,7,8,9]\n",
    "\n",
    "for element in array:\n",
    "    \n",
    "    print(\"9X\",element, \"=\", element * 9)"
   ]
  },
  {
   "cell_type": "code",
   "execution_count": 4,
   "metadata": {},
   "outputs": [
    {
     "name": "stdout",
     "output_type": "stream",
     "text": [
      "포도 1박스 : 15000\n",
      "라면 1봉지 : 4000\n",
      "소고기 1kg: 3000\n"
     ]
    }
   ],
   "source": [
    "podo = 15000\n",
    "ramen = 4000\n",
    "beef = 3000\n",
    "\n",
    "def sum_add(a,b,c):\n",
    "    print(\"포도 1박스\", \":\", a)\n",
    "    print(\"라면 1봉지\", \":\", b)\n",
    "    print(\"소고기 1kg:\", c)\n",
    "\n",
    "#     result = (a*2) + (b*4) + c\n",
    "#     return result\n",
    "\n",
    "sum_add(podo,ramen,beef)"
   ]
  },
  {
   "cell_type": "code",
   "execution_count": 6,
   "metadata": {},
   "outputs": [
    {
     "name": "stdout",
     "output_type": "stream",
     "text": [
      "안녕하세요\n",
      "함수의 대해서 배우고 있습니다.\n"
     ]
    }
   ],
   "source": [
    "def print_return():\n",
    "    print(\"안녕하세요\") \n",
    "    print(\"함수의 대해서 배우고 있습니다.\")\n",
    "print_return()"
   ]
  },
  {
   "cell_type": "code",
   "execution_count": 7,
   "metadata": {},
   "outputs": [
    {
     "name": "stdout",
     "output_type": "stream",
     "text": [
      "49\n"
     ]
    }
   ],
   "source": [
    "def multiple(a, b):\n",
    "    print(a * b)\n",
    "multiple(7,7)"
   ]
  },
  {
   "cell_type": "code",
   "execution_count": 13,
   "metadata": {},
   "outputs": [
    {
     "name": "stdout",
     "output_type": "stream",
     "text": [
      "1\n",
      "3\n",
      "6\n",
      "10\n",
      "15\n",
      "1\n",
      "3\n",
      "6\n",
      "10\n",
      "15\n",
      "21\n",
      "28\n",
      "36\n",
      "45\n",
      "55\n",
      "66\n",
      "78\n",
      "91\n",
      "105\n",
      "120\n",
      "136\n",
      "153\n",
      "171\n",
      "190\n",
      "210\n"
     ]
    }
   ],
   "source": [
    "def sum(*number): \n",
    "    result = 0\n",
    "    for i in number:\n",
    "        result = result + i\n",
    "        print(result)\n",
    "sum(1,2,3,4,5) \n",
    "sum(1,2,3,4,5,6,7,8,9,10,11,12,13,14,15,16,17,18,19,20)"
   ]
  },
  {
   "cell_type": "code",
   "execution_count": 15,
   "metadata": {},
   "outputs": [
    {
     "name": "stdout",
     "output_type": "stream",
     "text": [
      "sin 0.0\n",
      "cos 0.8775825618903728\n",
      "tan 1.557407724654902\n",
      "내림 3\n",
      "올림 3\n"
     ]
    }
   ],
   "source": [
    "import math \n",
    "    \n",
    "print(\"sin\",math.sin(0))\n",
    "print(\"cos\",math.cos(0.5))\n",
    "print(\"tan\",math.tan(1))\n",
    "\n",
    "print(\"내림\",math.floor(3.4294))\n",
    "print(\"올림\",math.ceil(2.93))"
   ]
  },
  {
   "cell_type": "code",
   "execution_count": 16,
   "metadata": {},
   "outputs": [
    {
     "name": "stdout",
     "output_type": "stream",
     "text": [
      "내림 5\n",
      "올림 3\n"
     ]
    }
   ],
   "source": [
    "from math import floor\n",
    "\n",
    "print(\"내림\",math.floor(5.139))\n",
    "print(\"올림\",math.ceil(2.949))"
   ]
  },
  {
   "cell_type": "code",
   "execution_count": 17,
   "metadata": {},
   "outputs": [
    {
     "name": "stdout",
     "output_type": "stream",
     "text": [
      "0.8414709848078965\n",
      "1.0\n"
     ]
    }
   ],
   "source": [
    "import math as n \n",
    "\n",
    "print(n.sin(1))\n",
    "print(n.cos(0))"
   ]
  },
  {
   "cell_type": "code",
   "execution_count": 20,
   "metadata": {},
   "outputs": [
    {
     "ename": "NameError",
     "evalue": "name 'random' is not defined",
     "output_type": "error",
     "traceback": [
      "\u001b[0;31m---------------------------------------------------------------------------\u001b[0m",
      "\u001b[0;31mNameError\u001b[0m                                 Traceback (most recent call last)",
      "\u001b[0;32m<ipython-input-20-26af6cffb46d>\u001b[0m in \u001b[0;36m<module>\u001b[0;34m\u001b[0m\n\u001b[0;32m----> 1\u001b[0;31m \u001b[0mrandom\u001b[0m\u001b[0;34m(\u001b[0m\u001b[0;34m)\u001b[0m \u001b[0;31m#0<=x<=1\u001b[0m\u001b[0;34m\u001b[0m\u001b[0;34m\u001b[0m\u001b[0m\n\u001b[0m",
      "\u001b[0;31mNameError\u001b[0m: name 'random' is not defined"
     ]
    }
   ],
   "source": [
    "random() #0<=x<=1"
   ]
  },
  {
   "cell_type": "code",
   "execution_count": 2,
   "metadata": {},
   "outputs": [
    {
     "name": "stdout",
     "output_type": "stream",
     "text": [
      "현재 운영체제 posix\n",
      "현재 폴더 <built-in function getcwd>\n",
      "현재 폴더의 내부: ['.DS_Store', 'python', 'fe 22 .ipynb', '.gitattributes', '.ipynb_checkpoints', '.git']\n",
      "현재 폴더의 내부: ['.DS_Store', 'fe 22 .ipynb', '.gitattributes', '.ipynb_checkpoints', '.git']\n"
     ]
    }
   ],
   "source": [
    "import os \n",
    "\n",
    "print(\"현재 운영체제\",os.name)\n",
    "print(\"현재 폴더\",os.getcwd)\n",
    "\n",
    "os.mkdir(\"python\")\n",
    "print(\"현재 폴더의 내부:\",os.listdir())\n",
    "os.rmdir(\"python\")\n",
    "print(\"현재 폴더의 내부:\",os.listdir())"
   ]
  },
  {
   "cell_type": "code",
   "execution_count": 7,
   "metadata": {},
   "outputs": [
    {
     "ename": "ModuleNotFoundError",
     "evalue": "No module named 'datatime'",
     "output_type": "error",
     "traceback": [
      "\u001b[0;31m---------------------------------------------------------------------------\u001b[0m",
      "\u001b[0;31mModuleNotFoundError\u001b[0m                       Traceback (most recent call last)",
      "\u001b[0;32m<ipython-input-7-66ddd90fa636>\u001b[0m in \u001b[0;36m<module>\u001b[0;34m\u001b[0m\n\u001b[0;32m----> 1\u001b[0;31m \u001b[0;32mimport\u001b[0m \u001b[0mdatatime\u001b[0m\u001b[0;34m\u001b[0m\u001b[0;34m\u001b[0m\u001b[0m\n\u001b[0m\u001b[1;32m      2\u001b[0m \u001b[0;32mfrom\u001b[0m \u001b[0mpytz\u001b[0m \u001b[0;32mimport\u001b[0m \u001b[0mtimezone\u001b[0m\u001b[0;34m\u001b[0m\u001b[0;34m\u001b[0m\u001b[0m\n\u001b[1;32m      3\u001b[0m \u001b[0;34m\u001b[0m\u001b[0m\n\u001b[1;32m      4\u001b[0m \u001b[0mprint\u001b[0m\u001b[0;34m(\u001b[0m\u001b[0;34m\"현재 시간:\"\u001b[0m\u001b[0;34m,\u001b[0m \u001b[0mdatatime\u001b[0m\u001b[0;34m.\u001b[0m\u001b[0mdatetime\u001b[0m\u001b[0;34m.\u001b[0m\u001b[0mnow\u001b[0m\u001b[0;34m(\u001b[0m\u001b[0;34m)\u001b[0m\u001b[0;34m)\u001b[0m\u001b[0;34m\u001b[0m\u001b[0;34m\u001b[0m\u001b[0m\n\u001b[1;32m      5\u001b[0m \u001b[0;34m\u001b[0m\u001b[0m\n",
      "\u001b[0;31mModuleNotFoundError\u001b[0m: No module named 'datatime'"
     ]
    }
   ],
   "source": [
    "import datatime\n",
    "from pytz import timezone\n",
    "\n",
    "print(\"현재 시간:\", datatime.datetime.now())\n",
    "\n",
    "present_time = datetime.datetime.now\n",
    "print(\"년\", present_time.year)\n",
    "print(\"월\", present_time.month)\n",
    "print(\"일\", present_time.day)\n",
    "print(\"시\", present_time.hour)\n",
    "print(\"분\", present_time.minute)\n",
    "print(\"초\", present_time.second)\n",
    "\n",
    "print(\"한국 현재시간:\", datetime.datetime.now(timezone('Asia/Seoul')))"
   ]
  },
  {
   "cell_type": "code",
   "execution_count": null,
   "metadata": {},
   "outputs": [],
   "source": []
  },
  {
   "cell_type": "code",
   "execution_count": null,
   "metadata": {},
   "outputs": [],
   "source": []
  }
 ],
 "metadata": {
  "kernelspec": {
   "display_name": "Python 3",
   "language": "python",
   "name": "python3"
  },
  "language_info": {
   "codemirror_mode": {
    "name": "ipython",
    "version": 3
   },
   "file_extension": ".py",
   "mimetype": "text/x-python",
   "name": "python",
   "nbconvert_exporter": "python",
   "pygments_lexer": "ipython3",
   "version": "3.7.4"
  }
 },
 "nbformat": 4,
 "nbformat_minor": 4
}
