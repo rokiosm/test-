{
 "cells": [
  {
   "cell_type": "code",
   "execution_count": 13,
   "metadata": {},
   "outputs": [
    {
     "name": "stdout",
     "output_type": "stream",
     "text": [
      "“출생년도 맞춰 또 나가야”…마스크 대리구매 허용했지만 번거로워져\n",
      "\"마스크 대리 구매 가능\"…5부제 앞두고 또 말 바꾼 정부\n",
      "내일부터 약국에서 어린이·노인용 마스크 대리 구매 가능\n",
      "10세이하·80세이상 마스크 대리구매 허용\n",
      "\"리베이트 의혹, 조원태 입사前\"···추잡해지는 대한항공 내분\n",
      "대한항공 \"조원태, 리베이트 의혹과 무관\"\n",
      "대한항공, “조원태 회장은 에어버스 리베이트 의혹과 무관”\n",
      "\"항공기 리베이트 '판결문' 주장은 거짓\"\n",
      "KDI \"코로나19 확산에 韓경기 빠르게 위축···경제심리도 악화\"\n",
      "KDI \"2월부터 경기 빠르게 위축\"\n",
      "\"수출·내수·심리 뚝..韓경제 빠르게 위축\"[코로나19 초비상]\n",
      "KDI \"코로나19 여파로 국내 경기 2008년 수준까지 후퇴\"\n",
      "저축銀, 고객 10명 중 6명에 20% 넘는 고금리 부과\n",
      "정부대출 심사만 두세달… 동네상인들엔 '그림의 떡'\n",
      "코로나19에 증시·환율 변동성 커져…글로벌 경기 둔화 우려\n",
      "\"금융시장, 실물경제 24시간 모니터링\" 기재부 코로나19 경제점검회의 열어\n",
      "소비자원, 코로나 관련 허위광고 40건 시정\n",
      "공기청정기가 코로나19 막아준다고? 거짓 광고입니다\n"
     ]
    }
   ],
   "source": [
    "import urllib.request\n",
    "import bs4\n",
    "\n",
    "\n",
    "# url = \"http://news.naver.com\"\n",
    "url = \"https://news.naver.com/main/main.nhn?mode=LSD&mid=shm&sid1=101\"\n",
    "html = urllib.request.urlopen(url)\n",
    "\n",
    "bs_obj = bs4.BeautifulSoup(html, \"html.parser\")\n",
    "\n",
    "div = bs_obj.find(\"div\", {\"class\": \"_persist\"})\n",
    "lis = div.findAll(\"a\", {\"class\": \"cluster_text_headline\"})\n",
    "\n",
    "for li in lis:\n",
    "    print(li.text)"
   ]
  },
  {
   "cell_type": "code",
   "execution_count": 30,
   "metadata": {},
   "outputs": [],
   "source": [
    "import urllib.request\n",
    "import bs4\n",
    "\n",
    "\n",
    "url = \"https://media.daum.net/economic/\"\n",
    "html = urllib.request.urlopen(url)\n",
    "\n",
    "bs_obj = bs4.BeautifulSoup(html, \"html.parser\")\n",
    "\n",
    "div = bs_obj.find(\"div\", {\"class\": \"section_cate section_headline\"})\n",
    "lis = div.findAll(\"a\", {\"class\": \"tit_mainnews\"})\n",
    "\n",
    "for li in lis:\n",
    "    print(li.text)\n",
    "    "
   ]
  },
  {
   "cell_type": "code",
   "execution_count": 31,
   "metadata": {},
   "outputs": [
    {
     "name": "stdout",
     "output_type": "stream",
     "text": [
      "http://www.coupang.com/np/categories/176860?page=1\n"
     ]
    },
    {
     "ename": "AttributeError",
     "evalue": "'NoneType' object has no attribute 'findAll'",
     "output_type": "error",
     "traceback": [
      "\u001b[0;31m---------------------------------------------------------------------------\u001b[0m",
      "\u001b[0;31mAttributeError\u001b[0m                            Traceback (most recent call last)",
      "\u001b[0;32m<ipython-input-31-12d2a8ff4bf1>\u001b[0m in \u001b[0;36m<module>\u001b[0;34m\u001b[0m\n\u001b[1;32m     15\u001b[0m \u001b[0;34m\u001b[0m\u001b[0m\n\u001b[1;32m     16\u001b[0m     \u001b[0mdiv\u001b[0m \u001b[0;34m=\u001b[0m \u001b[0msoup_obj\u001b[0m\u001b[0;34m.\u001b[0m\u001b[0mfindAll\u001b[0m\u001b[0;34m(\u001b[0m\u001b[0;34m\"div\"\u001b[0m\u001b[0;34m,\u001b[0m \u001b[0;34m{\u001b[0m\u001b[0;34m\"class\"\u001b[0m\u001b[0;34m:\u001b[0m \u001b[0;34m\"name\"\u001b[0m\u001b[0;34m}\u001b[0m\u001b[0;34m)\u001b[0m\u001b[0;34m\u001b[0m\u001b[0;34m\u001b[0m\u001b[0m\n\u001b[0;32m---> 17\u001b[0;31m     \u001b[0mlis\u001b[0m \u001b[0;34m=\u001b[0m \u001b[0msoup_obj\u001b[0m\u001b[0;34m.\u001b[0m\u001b[0mfind\u001b[0m\u001b[0;34m(\u001b[0m\u001b[0;34m\"ul\"\u001b[0m\u001b[0;34m,\u001b[0m \u001b[0;34m{\u001b[0m\u001b[0;34m\"id\"\u001b[0m\u001b[0;34m:\u001b[0m \u001b[0;34m\"productList\"\u001b[0m\u001b[0;34m}\u001b[0m\u001b[0;34m)\u001b[0m\u001b[0;34m.\u001b[0m\u001b[0mfindAll\u001b[0m\u001b[0;34m(\u001b[0m\u001b[0;34m\"li\"\u001b[0m\u001b[0;34m)\u001b[0m\u001b[0;34m\u001b[0m\u001b[0;34m\u001b[0m\u001b[0m\n\u001b[0m\u001b[1;32m     18\u001b[0m \u001b[0;34m\u001b[0m\u001b[0m\n\u001b[1;32m     19\u001b[0m     \u001b[0;32mfor\u001b[0m \u001b[0mli\u001b[0m \u001b[0;32min\u001b[0m \u001b[0mlis\u001b[0m\u001b[0;34m:\u001b[0m\u001b[0;34m\u001b[0m\u001b[0;34m\u001b[0m\u001b[0m\n",
      "\u001b[0;31mAttributeError\u001b[0m: 'NoneType' object has no attribute 'findAll'"
     ]
    }
   ],
   "source": [
    "import requests\n",
    "from bs4 import BeautifulSoup\n",
    "\n",
    "headers = {\n",
    "    \"User-Agent\": \"Mozilla/5.0 (Macintosh; Intel Mac OS X 10_14_3) AppleWebKit/537.36 (KHTML, like Gecko) Chrome/72.0.3626.109 Safari/537.36\"\n",
    "}\n",
    "\n",
    "# 스킨케어 - 쿠팡랭킹순 모든 상품,가격 가져오기\n",
    "for idx in range(1, 17):\n",
    "    url = \"http://www.coupang.com/np/categories/176860?page=\" + str(idx)\n",
    "\n",
    "    print(url)\n",
    "    result = requests.get(url, headers=headers)\n",
    "    soup_obj = BeautifulSoup(result.content, \"html.parser\")\n",
    "\n",
    "    div = soup_obj.findAll(\"div\", {\"class\": \"name\"})\n",
    "    lis = soup_obj.find(\"ul\", {\"id\": \"productList\"}).findAll(\"li\")\n",
    "\n",
    "    for li in lis:\n",
    "        product = li.find(\"div\", {\"class\": \"name\"})\n",
    "        price = li.find(\"em\", {\"class\": \"sale\"}).find(\n",
    "            \"strong\", {\"class\": \"price-value\"}\n",
    "        )\n",
    "        print(\"화장품명: \" + product.text.strip() + \" / \" + \"상품가격: \" + price.text.strip())"
   ]
  },
  {
   "cell_type": "code",
   "execution_count": null,
   "metadata": {},
   "outputs": [],
   "source": []
  }
 ],
 "metadata": {
  "kernelspec": {
   "display_name": "Python 3",
   "language": "python",
   "name": "python3"
  },
  "language_info": {
   "codemirror_mode": {
    "name": "ipython",
    "version": 3
   },
   "file_extension": ".py",
   "mimetype": "text/x-python",
   "name": "python",
   "nbconvert_exporter": "python",
   "pygments_lexer": "ipython3",
   "version": "3.7.4"
  }
 },
 "nbformat": 4,
 "nbformat_minor": 2
}
